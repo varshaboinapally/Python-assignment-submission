{
  "nbformat": 4,
  "nbformat_minor": 0,
  "metadata": {
    "colab": {
      "name": "stringpangram.ipynb",
      "provenance": [],
      "authorship_tag": "ABX9TyNF7Qme6hh3Fs/96JwY9JwG",
      "include_colab_link": true
    },
    "kernelspec": {
      "name": "python3",
      "display_name": "Python 3"
    },
    "language_info": {
      "name": "python"
    }
  },
  "cells": [
    {
      "cell_type": "markdown",
      "metadata": {
        "id": "view-in-github",
        "colab_type": "text"
      },
      "source": [
        "<a href=\"https://colab.research.google.com/github/varshaboinapally/Python-assignment-submission/blob/main/stringpangram.ipynb\" target=\"_parent\"><img src=\"https://colab.research.google.com/assets/colab-badge.svg\" alt=\"Open In Colab\"/></a>"
      ]
    },
    {
      "cell_type": "code",
      "metadata": {
        "colab": {
          "base_uri": "https://localhost:8080/"
        },
        "id": "QMeDLi9hIHQl",
        "outputId": "32570501-3dcb-4a9e-d97f-51bfb94815a0"
      },
      "source": [
        "def check_pangram(arg):\n",
        "  if len(set('abcdefghijklmnopqrstuvwxyz') - set(arg.lower())) == 0 :\n",
        "    return True\n",
        "\n",
        "  return False\n",
        "\n",
        "enter_str = input(\"Enter a string to check for pangram : \")\n",
        "\n",
        "if(check_pangram(enter_str)):\n",
        "  print(\"It is a pangram string\")\n",
        "else:\n",
        "  print(\"Not a pangram string\")"
      ],
      "execution_count": 14,
      "outputs": [
        {
          "output_type": "stream",
          "text": [
            "Enter a string to check for pangram : hard work is the key to success\n",
            "Not a pangram string\n"
          ],
          "name": "stdout"
        }
      ]
    },
    {
      "cell_type": "code",
      "metadata": {
        "colab": {
          "base_uri": "https://localhost:8080/"
        },
        "id": "7Xu-mPzBIjYG",
        "outputId": "e0569b37-e489-4310-bf3e-bba9ec104b8c"
      },
      "source": [
        "def check_pangram(arg):\n",
        "  if len(set('abcdefghijklmnopqrstuvwxyz') - set(arg.lower())) == 0 :\n",
        "    return True\n",
        "\n",
        "  return False\n",
        "\n",
        "enter_str = input(\"Enter a string to check for pangram : \")\n",
        "\n",
        "if(check_pangram(enter_str)):\n",
        "  print(\"It is a pangram string\")\n",
        "else:\n",
        "  print(\"Not a pangram string\")"
      ],
      "execution_count": null,
      "outputs": [
        {
          "output_type": "stream",
          "text": [
            "Enter a string to check for pangram : the quick brown fox jumps over the lazy dog\n",
            "It is a pangram string\n"
          ],
          "name": "stdout"
        }
      ]
    }
  ]
}