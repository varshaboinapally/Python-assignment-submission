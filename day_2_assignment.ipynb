{
  "nbformat": 4,
  "nbformat_minor": 0,
  "metadata": {
    "colab": {
      "name": "day 2 assignment.ipynb",
      "provenance": [],
      "authorship_tag": "ABX9TyNelnAf7Mpc+RtuPA21vGYj",
      "include_colab_link": true
    },
    "kernelspec": {
      "name": "python3",
      "display_name": "Python 3"
    },
    "language_info": {
      "name": "python"
    }
  },
  "cells": [
    {
      "cell_type": "markdown",
      "metadata": {
        "id": "view-in-github",
        "colab_type": "text"
      },
      "source": [
        "<a href=\"https://colab.research.google.com/github/varshaboinapally/Python-assignment-submission/blob/main/day_2_assignment.ipynb\" target=\"_parent\"><img src=\"https://colab.research.google.com/assets/colab-badge.svg\" alt=\"Open In Colab\"/></a>"
      ]
    },
    {
      "cell_type": "code",
      "metadata": {
        "colab": {
          "base_uri": "https://localhost:8080/"
        },
        "id": "isz_6Z6HZ7Mh",
        "outputId": "a6402801-da67-444b-94b0-5fce7d2ec30c"
      },
      "source": [
        "li=[1,2,3,4,5,4,6,7,4,8]\n",
        "li.pop(5)\n",
        "print(li)\n",
        "li.pop(7)\n",
        "print(li)\n",
        "\n",
        "\n"
      ],
      "execution_count": null,
      "outputs": [
        {
          "output_type": "stream",
          "text": [
            "[1, 2, 3, 4, 5, 6, 7, 4, 8]\n",
            "[1, 2, 3, 4, 5, 6, 7, 8]\n"
          ],
          "name": "stdout"
        }
      ]
    }
  ]
}