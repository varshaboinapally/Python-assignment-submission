{
  "nbformat": 4,
  "nbformat_minor": 0,
  "metadata": {
    "colab": {
      "name": "temperature conversion.ipynb",
      "provenance": [],
      "authorship_tag": "ABX9TyOPoh3DA2TGA/PcFdzKdOAb",
      "include_colab_link": true
    },
    "kernelspec": {
      "name": "python3",
      "display_name": "Python 3"
    },
    "language_info": {
      "name": "python"
    }
  },
  "cells": [
    {
      "cell_type": "markdown",
      "metadata": {
        "id": "view-in-github",
        "colab_type": "text"
      },
      "source": [
        "<a href=\"https://colab.research.google.com/github/varshaboinapally/Python-assignment-submission/blob/main/temperature_conversion.ipynb\" target=\"_parent\"><img src=\"https://colab.research.google.com/assets/colab-badge.svg\" alt=\"Open In Colab\"/></a>"
      ]
    },
    {
      "cell_type": "code",
      "metadata": {
        "colab": {
          "base_uri": "https://localhost:8080/"
        },
        "id": "iDF8Z_a-M85C",
        "outputId": "764318cd-86c8-4d79-ec02-113130b902e3"
      },
      "source": [
        "celsius=float(input(\"enter the temperature in celsius:\"))\n",
        "fahrenheit=(celsius*9/5)+32\n",
        "print('%.2f celsius is :%0.2f fahrenheit'%(celsius,fahrenheit))"
      ],
      "execution_count": null,
      "outputs": [
        {
          "output_type": "stream",
          "text": [
            "enter the temperature in celsius:100\n",
            "100.00 celsius is :212.00 fahrenheit\n"
          ],
          "name": "stdout"
        }
      ]
    }
  ]
}