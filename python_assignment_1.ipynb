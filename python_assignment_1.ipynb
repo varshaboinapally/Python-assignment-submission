{
  "nbformat": 4,
  "nbformat_minor": 0,
  "metadata": {
    "colab": {
      "name": "python assignment 1",
      "provenance": [],
      "authorship_tag": "ABX9TyP8crdchLD0FKESpR4POiW8",
      "include_colab_link": true
    },
    "kernelspec": {
      "name": "python3",
      "display_name": "Python 3"
    },
    "language_info": {
      "name": "python"
    }
  },
  "cells": [
    {
      "cell_type": "markdown",
      "metadata": {
        "id": "view-in-github",
        "colab_type": "text"
      },
      "source": [
        "<a href=\"https://colab.research.google.com/github/varshaboinapally/Python-assignment-submission/blob/main/python_assignment_1.ipynb\" target=\"_parent\"><img src=\"https://colab.research.google.com/assets/colab-badge.svg\" alt=\"Open In Colab\"/></a>"
      ]
    },
    {
      "cell_type": "code",
      "metadata": {
        "id": "NxAZIx17UxDg",
        "colab": {
          "base_uri": "https://localhost:8080/"
        },
        "outputId": "97699fe0-4eb6-4013-a905-390a7edc87bc"
      },
      "source": [
        "li=[1, 2 ,3, 4 ,5]\n",
        "li=[int(i)for i in input('enter values:').split()]\n",
        "li.reverse()\n",
        "print(li)"
      ],
      "execution_count": 2,
      "outputs": [
        {
          "output_type": "stream",
          "text": [
            "enter values:1 2 3 4 5\n",
            "[5, 4, 3, 2, 1]\n"
          ],
          "name": "stdout"
        }
      ]
    },
    {
      "cell_type": "code",
      "metadata": {
        "id": "fhz9pa8JJsKr"
      },
      "source": [
        ""
      ],
      "execution_count": null,
      "outputs": []
    }
  ]
}